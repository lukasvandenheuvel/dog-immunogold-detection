{
 "cells": [
  {
   "cell_type": "code",
   "execution_count": 1,
   "metadata": {},
   "outputs": [],
   "source": [
    "from skimage import io\n",
    "import matplotlib.pyplot as plt\n",
    "import pandas as pd\n",
    "import numpy as np\n",
    "from numba import jit\n",
    "from pathlib import Path\n",
    "from skimage import draw,transform"
   ]
  },
  {
   "cell_type": "code",
   "execution_count": null,
   "metadata": {},
   "outputs": [],
   "source": [
    "# # Parameters\n",
    "# pixel_size = 1.6537 # nm\n",
    "# pixel_size = 1.825 # nm\n",
    "pixel_size = 2.4335 # nm\n",
    "em_path = '/Users/lukasvandenheuvel/Documents/PhD/Data-temp/20241022_iDA-figures/clem-immunogold/raw/Matek2-cU/Image-0059.tif'\n",
    "gold_locations_path = '/Users/lukasvandenheuvel/Documents/PhD/Data-temp/20241022_iDA-figures/clem-immunogold/raw/Matek2-cU/ig-detection-inset02/Image-0059-goldLocations.csv'\n",
    "out_path = '/Users/lukasvandenheuvel/Documents/PhD/Data-temp/20241022_iDA-figures/clem-immunogold/raw/Matek2-cU/ig-detection-inset02'\n",
    "num_closest_gold = 15 # The heatmap will show the sum of the distance to the num_closest_gold closest gold particles.\n",
    "final_width = 2048 # Downscale the EM image and heatmap to this width. This will drastically reduce running time."
   ]
  },
  {
   "cell_type": "code",
   "execution_count": 3,
   "metadata": {},
   "outputs": [],
   "source": [
    "# @jit # Just-in-time accelleration: uncommenting this line may result in a faster performance (but for me it didn't...))\n",
    "def distance(height,width,G,num_closest=10):\n",
    "    # Calculates for each pixel the sum of the distances to the num_closest gold particles \n",
    "    D = np.zeros((height,width),dtype=np.int32)\n",
    "    for y in range(height):\n",
    "        for x in range(width):\n",
    "            distance_array = np.sqrt((x - G[:,1].reshape(-1,1).T)**2 + (y - G[:,0].reshape(-1,1).T)**2)\n",
    "            D[y,x] = np.sum(np.sort(distance_array)[0,:num_closest])\n",
    "    return D"
   ]
  },
  {
   "cell_type": "markdown",
   "metadata": {},
   "source": [
    "# Calculate distance to N closest gold particles"
   ]
  },
  {
   "cell_type": "code",
   "execution_count": 4,
   "metadata": {},
   "outputs": [],
   "source": [
    "# Read data\n",
    "gold_locations = pd.read_csv(gold_locations_path)\n",
    "em = io.imread(em_path)"
   ]
  },
  {
   "cell_type": "code",
   "execution_count": 5,
   "metadata": {},
   "outputs": [],
   "source": [
    "# Read data\n",
    "gold_locations = pd.read_csv(gold_locations_path)\n",
    "em = io.imread(em_path)\n",
    "rescale_factor = final_width/em.shape[1]\n",
    "em_rescaled = transform.rescale(em,rescale_factor,anti_aliasing=False)"
   ]
  },
  {
   "cell_type": "code",
   "execution_count": 6,
   "metadata": {},
   "outputs": [],
   "source": [
    "# This cell will take a few minutes to run.\n",
    "# If it takes too long, reduce the final_width parameter.\n",
    "\n",
    "# Make an array with the X and Y locations of the closest gold particles (unit: pixels)\n",
    "G = np.array(rescale_factor*gold_locations[['YM','XM']] / pixel_size, dtype=int)\n",
    "# For each pixel, calculate the sum of the distances to the num_closest gold particles \n",
    "# D = distance(em_rescaled.shape[0],em_rescaled.shape[1],G,num_closest=num_closest_gold)"
   ]
  },
  {
   "cell_type": "code",
   "execution_count": 7,
   "metadata": {},
   "outputs": [],
   "source": [
    "# Save results\n",
    "# logD = np.log(D)\n",
    "# logD_normalized = (255*((logD-np.min(logD))/(np.max(logD)-np.min(logD)))).astype(np.uint8)\n",
    "# io.imsave(f'{out_path}/{Path(em_path).stem}-logDistTo{num_closest_gold}ClosestGold.tif',logD_normalized)"
   ]
  },
  {
   "cell_type": "markdown",
   "metadata": {},
   "source": [
    "# Save image with gold locations"
   ]
  },
  {
   "cell_type": "code",
   "execution_count": 8,
   "metadata": {},
   "outputs": [
    {
     "name": "stderr",
     "output_type": "stream",
     "text": [
      "/var/folders/0z/hvg4mzl50gqb0m2ql3c0w0xc0000gn/T/ipykernel_44652/1091997925.py:7: UserWarning: /Users/lukasvandenheuvel/Documents/PhD/Data-temp/20241022_iDA-figures/clem-immunogold/raw/Matek2-cU/ig-detection/Image-0051-locGoldParticles.tif is a low contrast image\n",
      "  io.imsave(f'{out_path}/{Path(em_path).stem}-locGoldParticles.tif',255*goldLocs)\n"
     ]
    }
   ],
   "source": [
    "goldLocs = np.zeros(em.shape,dtype=np.uint8)\n",
    "radius = 10\n",
    "for ii in range(G.shape[0]):\n",
    "    rr,cc = draw.disk((G[ii,0],G[ii,1]),radius)\n",
    "    goldLocs[rr,cc] = 1\n",
    "\n",
    "io.imsave(f'{out_path}/{Path(em_path).stem}-locGoldParticles.tif',255*goldLocs)"
   ]
  },
  {
   "cell_type": "markdown",
   "metadata": {},
   "source": [
    "# View output with napari"
   ]
  },
  {
   "cell_type": "code",
   "execution_count": 9,
   "metadata": {},
   "outputs": [
    {
     "name": "stdout",
     "output_type": "stream",
     "text": [
      "Assistant skips harvesting pyclesperanto as it's not installed.\n"
     ]
    },
    {
     "data": {
      "text/plain": [
       "<Points layer 'gold_locations' at 0x2b6060eb0>"
      ]
     },
     "execution_count": 9,
     "metadata": {},
     "output_type": "execute_result"
    }
   ],
   "source": [
    "import napari\n",
    "\n",
    "# View heatmap\n",
    "viewer = napari.Viewer()\n",
    "viewer.add_image(em_rescaled)\n",
    "# viewer.add_image(logD_normalized,colormap='inferno_r',blending='additive')\n",
    "viewer.add_points(G,name='gold_locations',size=50,face_color='red',opacity=0.4)"
   ]
  },
  {
   "cell_type": "code",
   "execution_count": 10,
   "metadata": {},
   "outputs": [
    {
     "data": {
      "text/plain": [
       "<Points layer 'Points' at 0x2bf716b20>"
      ]
     },
     "execution_count": 10,
     "metadata": {},
     "output_type": "execute_result"
    }
   ],
   "source": [
    "# View original image with gold detections in red\n",
    "viewer2 = napari.Viewer()\n",
    "viewer2.add_image(em)\n",
    "viewer2.add_points(gold_locations[['YM','XM']] / pixel_size,size=35,edge_width=0,face_color='red',opacity=0.5)"
   ]
  },
  {
   "cell_type": "markdown",
   "metadata": {},
   "source": [
    "# Make scalebar"
   ]
  },
  {
   "cell_type": "code",
   "execution_count": 11,
   "metadata": {},
   "outputs": [
    {
     "ename": "NameError",
     "evalue": "name 'logD' is not defined",
     "output_type": "error",
     "traceback": [
      "\u001b[0;31m---------------------------------------------------------------------------\u001b[0m",
      "\u001b[0;31mNameError\u001b[0m                                 Traceback (most recent call last)",
      "Cell \u001b[0;32mIn[11], line 1\u001b[0m\n\u001b[0;32m----> 1\u001b[0m \u001b[38;5;28mmin\u001b[39m,\u001b[38;5;28mmax\u001b[39m \u001b[38;5;241m=\u001b[39m [np\u001b[38;5;241m.\u001b[39mmin(\u001b[43mlogD\u001b[49m)\u001b[38;5;241m+\u001b[39mnp\u001b[38;5;241m.\u001b[39mlog(pixel_size),np\u001b[38;5;241m.\u001b[39mmax(logD)\u001b[38;5;241m+\u001b[39mnp\u001b[38;5;241m.\u001b[39mlog(pixel_size)] \u001b[38;5;66;03m# Min and max value of the distance map (in units of log(nm))\u001b[39;00m\n\u001b[1;32m      2\u001b[0m \u001b[38;5;28mprint\u001b[39m(\u001b[38;5;124mf\u001b[39m\u001b[38;5;124m'\u001b[39m\u001b[38;5;124mMin = \u001b[39m\u001b[38;5;132;01m{\u001b[39;00m\u001b[38;5;28mmin\u001b[39m\u001b[38;5;132;01m}\u001b[39;00m\u001b[38;5;124m log(nm), Max = \u001b[39m\u001b[38;5;132;01m{\u001b[39;00m\u001b[38;5;28mmax\u001b[39m\u001b[38;5;132;01m}\u001b[39;00m\u001b[38;5;124m log(nm)\u001b[39m\u001b[38;5;124m'\u001b[39m)\n\u001b[1;32m      3\u001b[0m scalebar \u001b[38;5;241m=\u001b[39m np\u001b[38;5;241m.\u001b[39mrepeat(np\u001b[38;5;241m.\u001b[39marange(\u001b[38;5;241m0\u001b[39m,\u001b[38;5;241m256\u001b[39m)\u001b[38;5;241m.\u001b[39mreshape(\u001b[38;5;241m-\u001b[39m\u001b[38;5;241m1\u001b[39m,\u001b[38;5;241m1\u001b[39m), \u001b[38;5;241m35\u001b[39m, axis\u001b[38;5;241m=\u001b[39m\u001b[38;5;241m1\u001b[39m)\n",
      "\u001b[0;31mNameError\u001b[0m: name 'logD' is not defined"
     ]
    }
   ],
   "source": [
    "min,max = [np.min(logD)+np.log(pixel_size),np.max(logD)+np.log(pixel_size)] # Min and max value of the distance map (in units of log(nm))\n",
    "print(f'Min = {min} log(nm), Max = {max} log(nm)')\n",
    "scalebar = np.repeat(np.arange(0,256).reshape(-1,1), 35, axis=1)\n",
    "io.imsave(f'{out_path}/{Path(em_path).stem}-logDistTo{num_closest_gold}ClosestGold-scalebar.tif',scalebar.astype(np.uint8))"
   ]
  }
 ],
 "metadata": {
  "kernelspec": {
   "display_name": "napari-env",
   "language": "python",
   "name": "python3"
  },
  "language_info": {
   "codemirror_mode": {
    "name": "ipython",
    "version": 3
   },
   "file_extension": ".py",
   "mimetype": "text/x-python",
   "name": "python",
   "nbconvert_exporter": "python",
   "pygments_lexer": "ipython3",
   "version": "3.9.18"
  }
 },
 "nbformat": 4,
 "nbformat_minor": 2
}
